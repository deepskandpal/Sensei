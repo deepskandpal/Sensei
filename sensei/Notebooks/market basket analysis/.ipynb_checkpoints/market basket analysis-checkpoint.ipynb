{
 "cells": [
  {
   "cell_type": "markdown",
   "id": "060135e2",
   "metadata": {},
   "source": [
    "### Tutorial Link : https://towardsdatascience.com/market-basket-analysis-using-associative-data-mining-and-apriori-algorithm-bddd07c6a71a"
   ]
  },
  {
   "cell_type": "markdown",
   "id": "631ce09c",
   "metadata": {},
   "source": [
    "### Theory\n",
    "1. *Support*: It tells us about the combination of items bought together frequently. It gives the part of transactions that contain both A and B.\n",
    "2. *Confidence*: It tells us how frequently the items A and B are bought together, for the no. of times A is bought.\n",
    "3. *Lift*: It indicates the strength of a rule over the randomness of A and B being bought together. It basically measures the strength of any association rule(we will talk about association rules below).\n",
    "\n",
    "    More the lift more is the strength of the rule. If the lift is 3 for A -> B then it means if we buy A, the chances of buying B is 3 times.\n",
    "    Apriori algorithm uses frequently bought item-sets to generate association rules. It is built on the idea that the subset of a frequently bought items-set is also a frequently bought item-set. Frequently bought item-sets are decided if their support value is above a minimum threshold support value.\n",
    "\n"
   ]
  },
  {
   "cell_type": "code",
   "execution_count": 1,
   "id": "0d95d78e",
   "metadata": {},
   "outputs": [],
   "source": [
    "import pandas as pd\n",
    "from mlxtend.frequent_patterns import apriori\n",
    "from mlxtend.frequent_patterns import association_rules\n",
    "import matplotlib.pyplot as plt\n",
    "from matplotlib import style\n",
    "import numpy as np"
   ]
  },
  {
   "cell_type": "markdown",
   "id": "ca9b8253",
   "metadata": {},
   "source": []
  },
  {
   "cell_type": "code",
   "execution_count": 3,
   "id": "a1ce5dce",
   "metadata": {},
   "outputs": [
    {
     "name": "stdout",
     "output_type": "stream",
     "text": [
      "<class 'pandas.core.frame.DataFrame'>\n",
      "RangeIndex: 1083818 entries, 0 to 1083817\n",
      "Data columns (total 8 columns):\n",
      " #   Column                  Non-Null Count    Dtype  \n",
      "---  ------                  --------------    -----  \n",
      " 0   UserId                  1083818 non-null  int64  \n",
      " 1   TransactionId           1083818 non-null  int64  \n",
      " 2   TransactionTime         1083818 non-null  object \n",
      " 3   ItemCode                1083818 non-null  int64  \n",
      " 4   ItemDescription         1080910 non-null  object \n",
      " 5   NumberOfItemsPurchased  1083818 non-null  int64  \n",
      " 6   CostPerItem             1083818 non-null  float64\n",
      " 7   Country                 1083818 non-null  object \n",
      "dtypes: float64(1), int64(4), object(3)\n",
      "memory usage: 66.2+ MB\n"
     ]
    }
   ],
   "source": [
    "read_df = pd.read_csv(\"transaction_data.csv\")\n",
    "df = read_df.copy()\n",
    "df.info()"
   ]
  },
  {
   "cell_type": "code",
   "execution_count": 5,
   "id": "4495ce9a",
   "metadata": {},
   "outputs": [],
   "source": [
    "df = df[df.UserId>0] # usedid <=0 : 25%\n",
    "df = df[df.ItemCode>0]\n",
    "df = df[df.NumberOfItemsPurchased>0]\n",
    "df = df[df.CostPerItem>0]\n",
    "df = df[df.ItemDescription.notna()]\n",
    "df = df[df.TransactionTime.str[-4:] != \"2028\"]"
   ]
  },
  {
   "cell_type": "code",
   "execution_count": null,
   "id": "32de3f0d",
   "metadata": {},
   "outputs": [],
   "source": [
    "df.TransactionTime = pd.to_datetime(df.TransactionTime)\n",
    "df[\"month_year\"]= pd.to_datetime(df.TransactionTime).dt.to_period(\"M\")\n",
    "df.sort_values(by = [\"month_year\"], inplace = True)\n",
    "Ser = df.groupby(\"month_year\").TransactionId.nunique()\n",
    "x = np.arange(0,len(Ser),1)\n",
    "style.use(\"ggplot\")\n",
    "fig = plt.figure(figsize = (10,10))\n",
    "ax1 = fig.add_subplot(111)\n",
    "ax1.plot(x, Ser, color = \"k\")\n",
    "ax1.fill_between(x, Ser, color = \"r\", alpha = 0.5)\n",
    "ax1.set_xticks(x)\n",
    "ax1.set_xticklabels(Ser.index)\n",
    "plt.xlabel(\"Time period\")\n",
    "plt.ylabel(\"No. of transactions\")\n"
   ]
  },
  {
   "cell_type": "code",
   "execution_count": null,
   "id": "cc9761a1",
   "metadata": {},
   "outputs": [],
   "source": []
  }
 ],
 "metadata": {
  "kernelspec": {
   "display_name": "Python 3",
   "language": "python",
   "name": "python3"
  },
  "language_info": {
   "codemirror_mode": {
    "name": "ipython",
    "version": 3
   },
   "file_extension": ".py",
   "mimetype": "text/x-python",
   "name": "python",
   "nbconvert_exporter": "python",
   "pygments_lexer": "ipython3",
   "version": "3.7.10"
  }
 },
 "nbformat": 4,
 "nbformat_minor": 5
}
